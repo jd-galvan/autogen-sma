{
 "cells": [
  {
   "cell_type": "markdown",
   "metadata": {},
   "source": [
    "# Ejemplo 3: Atención al cliente\n",
    "En el presente ejemplo se implementará un sistema multi agente haciendo uso del patron de Chat Grupal. Por tal motivo, se crearán los siguientes agentes que  tendrán como input inicial un mensaje del usuario:\n",
    "\n",
    "- GroupChatManager: Derivará la consulta al agente encargado.\n",
    "- TechnicalAgent: Atiende las consultas de tipo técnico y da instrucciones paso a paso.\n",
    "- OrdersAgent: Atiende las consultas referente a pedidos hechos por los clientes.\n",
    "- BillingAgent: Atiende las consultas relacionadas con pagos y facturación."
   ]
  },
  {
   "cell_type": "markdown",
   "metadata": {},
   "source": []
  },
  {
   "cell_type": "code",
   "execution_count": 5,
   "metadata": {},
   "outputs": [
    {
     "data": {
      "text/plain": [
       "True"
      ]
     },
     "execution_count": 5,
     "metadata": {},
     "output_type": "execute_result"
    }
   ],
   "source": [
    "# Load environment variables\n",
    "\n",
    "from dotenv import load_dotenv\n",
    "\n",
    "load_dotenv()"
   ]
  },
  {
   "cell_type": "code",
   "execution_count": 6,
   "metadata": {},
   "outputs": [],
   "source": [
    "import json\n",
    "import string\n",
    "import uuid\n",
    "from typing import List\n",
    "\n",
    "import openai\n",
    "from autogen_core import (\n",
    "    DefaultTopicId,\n",
    "    FunctionCall,\n",
    "    Image,\n",
    "    MessageContext,\n",
    "    RoutedAgent,\n",
    "    SingleThreadedAgentRuntime,\n",
    "    TopicId,\n",
    "    TypeSubscription,\n",
    "    message_handler,\n",
    ")\n",
    "from autogen_core.models import (\n",
    "    AssistantMessage,\n",
    "    ChatCompletionClient,\n",
    "    LLMMessage,\n",
    "    SystemMessage,\n",
    "    UserMessage,\n",
    ")\n",
    "from autogen_core.tools import FunctionTool\n",
    "from autogen_ext.models.openai import OpenAIChatCompletionClient\n",
    "from IPython.display import display  # type: ignore\n",
    "from pydantic import BaseModel\n",
    "from rich.console import Console\n",
    "from rich.markdown import Markdown"
   ]
  },
  {
   "cell_type": "code",
   "execution_count": 7,
   "metadata": {},
   "outputs": [],
   "source": [
    "# Defining protocol\n",
    "class GroupChatMessage(BaseModel):\n",
    "    body: UserMessage\n",
    "\n",
    "\n",
    "class RequestToSpeak(BaseModel):\n",
    "    pass"
   ]
  },
  {
   "cell_type": "code",
   "execution_count": 8,
   "metadata": {},
   "outputs": [],
   "source": [
    "# Base Group Chat Agent\n",
    "class BaseGroupChatAgent(RoutedAgent):\n",
    "    \"\"\"A group chat participant using an LLM.\"\"\"\n",
    "\n",
    "    def __init__(\n",
    "        self,\n",
    "        description: str,\n",
    "        group_chat_topic_type: str,\n",
    "        model_client: ChatCompletionClient,\n",
    "        system_message: str,\n",
    "    ) -> None:\n",
    "        super().__init__(description=description)\n",
    "        self._group_chat_topic_type = group_chat_topic_type\n",
    "        self._model_client = model_client\n",
    "        self._system_message = SystemMessage(content=system_message)\n",
    "        self._chat_history: List[LLMMessage] = []\n",
    "\n",
    "    @message_handler\n",
    "    async def handle_message(self, message: GroupChatMessage, ctx: MessageContext) -> None:\n",
    "        self._chat_history.extend(\n",
    "            [\n",
    "                UserMessage(content=f\"Transferred to {message.body.source}\", source=\"system\"),\n",
    "                message.body,\n",
    "            ]\n",
    "        )\n",
    "\n",
    "    @message_handler\n",
    "    async def handle_request_to_speak(self, message: RequestToSpeak, ctx: MessageContext) -> None:\n",
    "        # print(f\"\\n{'-'*80}\\n{self.id.type}:\", flush=True)\n",
    "        Console().print(Markdown(f\"### {self.id.type}: \"))\n",
    "        self._chat_history.append(\n",
    "            UserMessage(content=f\"Transferred to {self.id.type}, adopt the persona immediately.\", source=\"system\")\n",
    "        )\n",
    "        completion = await self._model_client.create([self._system_message] + self._chat_history)\n",
    "        assert isinstance(completion.content, str)\n",
    "        self._chat_history.append(AssistantMessage(content=completion.content, source=self.id.type))\n",
    "        Console().print(Markdown(completion.content))\n",
    "        await self.publish_message(\n",
    "            GroupChatMessage(body=UserMessage(content=completion.content, source=self.id.type)),\n",
    "            topic_id=DefaultTopicId(type=self._group_chat_topic_type),\n",
    "        )"
   ]
  },
  {
   "cell_type": "code",
   "execution_count": 34,
   "metadata": {},
   "outputs": [],
   "source": [
    "# Creating agents\n",
    "\n",
    "class TechnicalAgent(BaseGroupChatAgent):\n",
    "    def __init__(self, description: str, group_chat_topic_type: str, model_client: ChatCompletionClient) -> None:\n",
    "        super().__init__(\n",
    "            description=description,\n",
    "            group_chat_topic_type=group_chat_topic_type,\n",
    "            model_client=model_client,\n",
    "            system_message=\"Eres un asistente que responde temas de soporte técnico. Unicamente responde sobre la consulta técnica, no sobre otros temas. Comunica que temas distintos a los temas técnicos serán respondidos por tus compañeros.\",\n",
    "        )\n",
    "\n",
    "\n",
    "class OrdersAgent(BaseGroupChatAgent):\n",
    "    def __init__(self, description: str, group_chat_topic_type: str, model_client: ChatCompletionClient) -> None:\n",
    "        super().__init__(\n",
    "            description=description,\n",
    "            group_chat_topic_type=group_chat_topic_type,\n",
    "            model_client=model_client,\n",
    "            system_message=\"Eres un asistente encargado de responder consultas sobre pedidos de los clientes. No respondas sobre otros temas como aspectos tecnicos o pagos. Comunica que temas distintos a las órdenes de envío serán respondidos por tus compañeros.\",\n",
    "        )\n",
    "\n",
    "class BillingAgent(BaseGroupChatAgent):\n",
    "    def __init__(self, description: str, group_chat_topic_type: str, model_client: ChatCompletionClient) -> None:\n",
    "        super().__init__(\n",
    "            description=description,\n",
    "            group_chat_topic_type=group_chat_topic_type,\n",
    "            model_client=model_client,\n",
    "            system_message=\"Eres un asistente encargado de responder consultas sobre pagos. No respondas sobre otros temas como ordenes o temas tecnicos. Comunica que temas distintos a los temas de pagos serán respondidos por tus compañeros.\",\n",
    "        )"
   ]
  },
  {
   "cell_type": "code",
   "execution_count": 35,
   "metadata": {},
   "outputs": [],
   "source": [
    "# User agent to get the user's input\n",
    "class UserAgent(RoutedAgent):\n",
    "    def __init__(self, description: str, group_chat_topic_type: str) -> None:\n",
    "        super().__init__(description=description)\n",
    "        self._group_chat_topic_type = group_chat_topic_type\n",
    "\n",
    "    @message_handler\n",
    "    async def handle_message(self, message: GroupChatMessage, ctx: MessageContext) -> None:\n",
    "        # When integrating with a frontend, this is where group chat message would be sent to the frontend.\n",
    "        pass\n",
    "\n",
    "    @message_handler\n",
    "    async def handle_request_to_speak(self, message: RequestToSpeak, ctx: MessageContext) -> None:\n",
    "        user_input = input(\"Enter your message, type 'APPROVE' to conclude the task: \")\n",
    "        Console().print(Markdown(f\"### User: \\n{user_input}\"))\n",
    "        await self.publish_message(\n",
    "            GroupChatMessage(body=UserMessage(content=user_input, source=self.id.type)),\n",
    "            DefaultTopicId(type=self._group_chat_topic_type),\n",
    "        )"
   ]
  },
  {
   "cell_type": "code",
   "execution_count": 36,
   "metadata": {},
   "outputs": [],
   "source": [
    "class GroupChatManager(RoutedAgent):\n",
    "    def __init__(\n",
    "        self,\n",
    "        participant_topic_types: List[str],\n",
    "        model_client: ChatCompletionClient,\n",
    "        participant_descriptions: List[str],\n",
    "    ) -> None:\n",
    "        super().__init__(\"Group chat manager\")\n",
    "        self._participant_topic_types = participant_topic_types\n",
    "        self._model_client = model_client\n",
    "        self._chat_history: List[UserMessage] = []\n",
    "        self._participant_descriptions = participant_descriptions\n",
    "        self._previous_participant_topic_type: str | None = None\n",
    "\n",
    "    @message_handler\n",
    "    async def handle_message(self, message: GroupChatMessage, ctx: MessageContext) -> None:\n",
    "        assert isinstance(message.body, UserMessage)\n",
    "        self._chat_history.append(message.body)\n",
    "        # If the message is an approval message from the user, stop the chat.\n",
    "        if message.body.source == \"User\":\n",
    "            assert isinstance(message.body.content, str)\n",
    "            if message.body.content.lower().strip(string.punctuation).endswith(\"approve\"):\n",
    "                return\n",
    "        # Format message history.\n",
    "        messages: List[str] = []\n",
    "        for msg in self._chat_history:\n",
    "            if isinstance(msg.content, str):\n",
    "                messages.append(f\"{msg.source}: {msg.content}\")\n",
    "            elif isinstance(msg.content, list):\n",
    "                line: List[str] = []\n",
    "                for item in msg.content:\n",
    "                    if isinstance(item, str):\n",
    "                        line.append(item)\n",
    "                    else:\n",
    "                        line.append(\"[Image]\")\n",
    "                messages.append(f\"{msg.source}: {', '.join(line)}\")\n",
    "        history = \"\\n\".join(messages)\n",
    "        # Format roles.\n",
    "        roles = \"\\n\".join(\n",
    "            [\n",
    "                f\"{topic_type}: {description}\".strip()\n",
    "                for topic_type, description in zip(\n",
    "                    self._participant_topic_types, self._participant_descriptions, strict=True\n",
    "                )\n",
    "                if topic_type != self._previous_participant_topic_type\n",
    "            ]\n",
    "        )\n",
    "        selector_prompt = \"\"\"You are in a role play game. The following roles are available:\n",
    "{roles}.\n",
    "Read the following conversation. Then select the next role from {participants} to play. Only return the role.\n",
    "\n",
    "{history}\n",
    "\n",
    "Read the above conversation. Then select the next role from {participants} to play. Only return the role.\n",
    "\"\"\"\n",
    "        system_message = SystemMessage(\n",
    "            content=selector_prompt.format(\n",
    "                roles=roles,\n",
    "                history=history,\n",
    "                participants=str(\n",
    "                    [\n",
    "                        topic_type\n",
    "                        for topic_type in self._participant_topic_types\n",
    "                        if topic_type != self._previous_participant_topic_type\n",
    "                    ]\n",
    "                ),\n",
    "            )\n",
    "        )\n",
    "        completion = await self._model_client.create([system_message], cancellation_token=ctx.cancellation_token)\n",
    "        assert isinstance(completion.content, str)\n",
    "        selected_topic_type: str\n",
    "        for topic_type in self._participant_topic_types:\n",
    "            if topic_type.lower() in completion.content.lower():\n",
    "                selected_topic_type = topic_type\n",
    "                self._previous_participant_topic_type = selected_topic_type\n",
    "                await self.publish_message(RequestToSpeak(), DefaultTopicId(type=selected_topic_type))\n",
    "                return\n",
    "        raise ValueError(f\"Invalid role selected: {completion.content}\")"
   ]
  },
  {
   "cell_type": "code",
   "execution_count": 37,
   "metadata": {},
   "outputs": [],
   "source": [
    "# Instantiate agents\n",
    "import os\n",
    "\n",
    "runtime = SingleThreadedAgentRuntime()\n",
    "\n",
    "technical_topic_type = \"Technical\"\n",
    "orders_topic_type = \"Orders\"\n",
    "billing_topic_type = \"Billing\"\n",
    "user_topic_type = \"User\"\n",
    "group_chat_topic_type = \"group_chat\"\n",
    "\n",
    "technical_description = \"Assistant for technical questions.\"\n",
    "orders_description = \"Assistant for questions about orders\"\n",
    "billing_description = \"Assistant for billing and payment questions\"\n",
    "user_description = \"User for providing final approval.\"\n",
    "\n",
    "model_client = OpenAIChatCompletionClient(\n",
    "            model=\"gpt-4o-mini\",\n",
    "            api_key=os.environ.get(\"OPENAI_API_KEY\"),\n",
    "        )\n",
    "\n",
    "technical_agent_type = await TechnicalAgent.register(\n",
    "    runtime,\n",
    "    technical_topic_type,  # Using topic type as the agent type.\n",
    "    lambda: TechnicalAgent(\n",
    "        description=technical_description,\n",
    "        group_chat_topic_type=group_chat_topic_type,\n",
    "        model_client=model_client,\n",
    "    ),\n",
    ")\n",
    "await runtime.add_subscription(TypeSubscription(topic_type=technical_topic_type, agent_type=technical_agent_type.type))\n",
    "await runtime.add_subscription(TypeSubscription(topic_type=group_chat_topic_type, agent_type=technical_agent_type.type))\n",
    "\n",
    "orders_agent_type = await OrdersAgent.register(\n",
    "    runtime,\n",
    "    orders_topic_type,  # Using topic type as the agent type.\n",
    "    lambda: OrdersAgent(\n",
    "        description=orders_description,\n",
    "        group_chat_topic_type=group_chat_topic_type,\n",
    "        model_client=model_client,\n",
    "    ),\n",
    ")\n",
    "await runtime.add_subscription(TypeSubscription(topic_type=orders_topic_type, agent_type=orders_agent_type.type))\n",
    "await runtime.add_subscription(TypeSubscription(topic_type=group_chat_topic_type, agent_type=orders_agent_type.type))\n",
    "\n",
    "billing_agent_type = await BillingAgent.register(\n",
    "    runtime,\n",
    "    billing_topic_type,\n",
    "    lambda: BillingAgent(\n",
    "        description=billing_description,\n",
    "        group_chat_topic_type=group_chat_topic_type,\n",
    "        model_client=model_client,\n",
    "    ),\n",
    ")\n",
    "await runtime.add_subscription(\n",
    "    TypeSubscription(topic_type=billing_topic_type, agent_type=billing_agent_type.type)\n",
    ")\n",
    "await runtime.add_subscription(\n",
    "    TypeSubscription(topic_type=group_chat_topic_type, agent_type=billing_agent_type.type)\n",
    ")\n",
    "\n",
    "user_agent_type = await UserAgent.register(\n",
    "    runtime,\n",
    "    user_topic_type,\n",
    "    lambda: UserAgent(description=user_description, group_chat_topic_type=group_chat_topic_type),\n",
    ")\n",
    "await runtime.add_subscription(TypeSubscription(topic_type=user_topic_type, agent_type=user_agent_type.type))\n",
    "await runtime.add_subscription(TypeSubscription(topic_type=group_chat_topic_type, agent_type=user_agent_type.type))\n",
    "\n",
    "group_chat_manager_type = await GroupChatManager.register(\n",
    "    runtime,\n",
    "    \"group_chat_manager\",\n",
    "    lambda: GroupChatManager(\n",
    "        participant_topic_types=[technical_topic_type, orders_topic_type, billing_topic_type, user_topic_type],\n",
    "        model_client=model_client,\n",
    "        participant_descriptions=[technical_description, orders_description, billing_description, user_description],\n",
    "    ),\n",
    ")\n",
    "await runtime.add_subscription(\n",
    "    TypeSubscription(topic_type=group_chat_topic_type, agent_type=group_chat_manager_type.type)\n",
    ")"
   ]
  },
  {
   "cell_type": "code",
   "execution_count": 39,
   "metadata": {},
   "outputs": [
    {
     "data": {
      "text/html": [
       "<pre style=\"white-space:pre;overflow-x:auto;line-height:normal;font-family:Menlo,'DejaVu Sans Mono',consolas,'Courier New',monospace\">                                                    <span style=\"font-weight: bold\">Technical:</span>                                                     \n",
       "</pre>\n"
      ],
      "text/plain": [
       "                                                    \u001b[1mTechnical:\u001b[0m                                                     \n"
      ]
     },
     "metadata": {},
     "output_type": "display_data"
    },
    {
     "data": {
      "text/html": [
       "<pre style=\"white-space:pre;overflow-x:auto;line-height:normal;font-family:Menlo,'DejaVu Sans Mono',consolas,'Courier New',monospace\">La pantalla azul que mencionas es comúnmente conocida como \"pantalla azul de la muerte\" (BSOD), y puede ser causada\n",
       "por varios problemas, como fallos en el hardware, controladores o software. Te recomendaría que sigas estos pasos: \n",
       "\n",
       "<span style=\"color: #808000; text-decoration-color: #808000; font-weight: bold\"> 1 </span><span style=\"font-weight: bold\">Reinicia tu computadora</span>: A veces, esto puede resolver un problema temporal.                                     \n",
       "<span style=\"color: #808000; text-decoration-color: #808000; font-weight: bold\"> 2 </span><span style=\"font-weight: bold\">Desconecta dispositivos externos</span>: Desconecta cualquier dispositivo USB o periférico y vuelve a encender tu      \n",
       "<span style=\"color: #808000; text-decoration-color: #808000; font-weight: bold\">   </span>computadora.                                                                                                    \n",
       "<span style=\"color: #808000; text-decoration-color: #808000; font-weight: bold\"> 3 </span><span style=\"font-weight: bold\">Inicia en Modo Seguro</span>: Intenta iniciar tu PC en Modo Seguro. Esto puede ayudarte a identificar si el problema   \n",
       "<span style=\"color: #808000; text-decoration-color: #808000; font-weight: bold\">   </span>está relacionado con algún software.                                                                            \n",
       "<span style=\"color: #808000; text-decoration-color: #808000; font-weight: bold\"> 4 </span><span style=\"font-weight: bold\">Revisa los últimos cambios</span>: Si instalaste algún nuevo software o hardware recientemente, considera desinstalarlo\n",
       "<span style=\"color: #808000; text-decoration-color: #808000; font-weight: bold\">   </span>o quitarlo.                                                                                                     \n",
       "<span style=\"color: #808000; text-decoration-color: #808000; font-weight: bold\"> 5 </span><span style=\"font-weight: bold\">Verifica el hardware</span>: Asegúrate de que todos los componentes internos estén bien conectados y que no haya       \n",
       "<span style=\"color: #808000; text-decoration-color: #808000; font-weight: bold\">   </span>problemas evidentes, como un sobrecalentamiento.                                                                \n",
       "\n",
       "Si el problema persiste, sería recomendable que consultes a un técnico especializado.                              \n",
       "\n",
       "Respecto a tus otras consultas sobre el estado del teclado y el pago, te recomiendo que contactes a mi compañero   \n",
       "que maneja los temas de pedidos y transacciones. Ellos podrán darte la información que necesitas.                  \n",
       "</pre>\n"
      ],
      "text/plain": [
       "La pantalla azul que mencionas es comúnmente conocida como \"pantalla azul de la muerte\" (BSOD), y puede ser causada\n",
       "por varios problemas, como fallos en el hardware, controladores o software. Te recomendaría que sigas estos pasos: \n",
       "\n",
       "\u001b[1;33m 1 \u001b[0m\u001b[1mReinicia tu computadora\u001b[0m: A veces, esto puede resolver un problema temporal.                                     \n",
       "\u001b[1;33m 2 \u001b[0m\u001b[1mDesconecta dispositivos externos\u001b[0m: Desconecta cualquier dispositivo USB o periférico y vuelve a encender tu      \n",
       "\u001b[1;33m   \u001b[0mcomputadora.                                                                                                    \n",
       "\u001b[1;33m 3 \u001b[0m\u001b[1mInicia en Modo Seguro\u001b[0m: Intenta iniciar tu PC en Modo Seguro. Esto puede ayudarte a identificar si el problema   \n",
       "\u001b[1;33m   \u001b[0mestá relacionado con algún software.                                                                            \n",
       "\u001b[1;33m 4 \u001b[0m\u001b[1mRevisa los últimos cambios\u001b[0m: Si instalaste algún nuevo software o hardware recientemente, considera desinstalarlo\n",
       "\u001b[1;33m   \u001b[0mo quitarlo.                                                                                                     \n",
       "\u001b[1;33m 5 \u001b[0m\u001b[1mVerifica el hardware\u001b[0m: Asegúrate de que todos los componentes internos estén bien conectados y que no haya       \n",
       "\u001b[1;33m   \u001b[0mproblemas evidentes, como un sobrecalentamiento.                                                                \n",
       "\n",
       "Si el problema persiste, sería recomendable que consultes a un técnico especializado.                              \n",
       "\n",
       "Respecto a tus otras consultas sobre el estado del teclado y el pago, te recomiendo que contactes a mi compañero   \n",
       "que maneja los temas de pedidos y transacciones. Ellos podrán darte la información que necesitas.                  \n"
      ]
     },
     "metadata": {},
     "output_type": "display_data"
    },
    {
     "data": {
      "text/html": [
       "<pre style=\"white-space:pre;overflow-x:auto;line-height:normal;font-family:Menlo,'DejaVu Sans Mono',consolas,'Courier New',monospace\">                                                      <span style=\"font-weight: bold\">Orders:</span>                                                      \n",
       "</pre>\n"
      ],
      "text/plain": [
       "                                                      \u001b[1mOrders:\u001b[0m                                                      \n"
      ]
     },
     "metadata": {},
     "output_type": "display_data"
    },
    {
     "data": {
      "text/html": [
       "<pre style=\"white-space:pre;overflow-x:auto;line-height:normal;font-family:Menlo,'DejaVu Sans Mono',consolas,'Courier New',monospace\">Hola, gracias por tu consulta. En cuanto al estado del teclado que ordenaste con el número de pedido 456, revisaré \n",
       "la información y te daré una actualización lo más pronto posible.                                                  \n",
       "\n",
       "Sobre tu pago con ID de transacción 123, te recomiendo que contactes a mis compañeros que manejan esos temas, ya   \n",
       "que ellos podrán verificar el estado del pago y cualquier otra consulta relacionada.                               \n",
       "\n",
       "Si tienes más preguntas sobre tu pedido del teclado o cualquier otra orden, estoy aquí para ayudarte.              \n",
       "</pre>\n"
      ],
      "text/plain": [
       "Hola, gracias por tu consulta. En cuanto al estado del teclado que ordenaste con el número de pedido 456, revisaré \n",
       "la información y te daré una actualización lo más pronto posible.                                                  \n",
       "\n",
       "Sobre tu pago con ID de transacción 123, te recomiendo que contactes a mis compañeros que manejan esos temas, ya   \n",
       "que ellos podrán verificar el estado del pago y cualquier otra consulta relacionada.                               \n",
       "\n",
       "Si tienes más preguntas sobre tu pedido del teclado o cualquier otra orden, estoy aquí para ayudarte.              \n"
      ]
     },
     "metadata": {},
     "output_type": "display_data"
    },
    {
     "data": {
      "text/html": [
       "<pre style=\"white-space:pre;overflow-x:auto;line-height:normal;font-family:Menlo,'DejaVu Sans Mono',consolas,'Courier New',monospace\">                                                     <span style=\"font-weight: bold\">Billing:</span>                                                      \n",
       "</pre>\n"
      ],
      "text/plain": [
       "                                                     \u001b[1mBilling:\u001b[0m                                                      \n"
      ]
     },
     "metadata": {},
     "output_type": "display_data"
    },
    {
     "data": {
      "text/html": [
       "<pre style=\"white-space:pre;overflow-x:auto;line-height:normal;font-family:Menlo,'DejaVu Sans Mono',consolas,'Courier New',monospace\">Hola, gracias por contactarnos. Estoy aquí para ayudarte con cualquier consulta relacionada con pagos. Si has      \n",
       "realizado una compra y quieres saber si tu pago con el ID de transacción 123 se procesó correctamente, puedo       \n",
       "ayudarte a verificar eso. Por favor, dame un momento para revisar la información.                                  \n",
       "\n",
       "Si tienes más preguntas sobre otros temas, mis compañeros estarán disponibles para ayudarte.                       \n",
       "</pre>\n"
      ],
      "text/plain": [
       "Hola, gracias por contactarnos. Estoy aquí para ayudarte con cualquier consulta relacionada con pagos. Si has      \n",
       "realizado una compra y quieres saber si tu pago con el ID de transacción 123 se procesó correctamente, puedo       \n",
       "ayudarte a verificar eso. Por favor, dame un momento para revisar la información.                                  \n",
       "\n",
       "Si tienes más preguntas sobre otros temas, mis compañeros estarán disponibles para ayudarte.                       \n"
      ]
     },
     "metadata": {},
     "output_type": "display_data"
    },
    {
     "data": {
      "text/html": [
       "<pre style=\"white-space:pre;overflow-x:auto;line-height:normal;font-family:Menlo,'DejaVu Sans Mono',consolas,'Courier New',monospace\">                                                       <span style=\"font-weight: bold\">User:</span>                                                       \n",
       "\n",
       "APPROVE                                                                                                            \n",
       "</pre>\n"
      ],
      "text/plain": [
       "                                                       \u001b[1mUser:\u001b[0m                                                       \n",
       "\n",
       "APPROVE                                                                                                            \n"
      ]
     },
     "metadata": {},
     "output_type": "display_data"
    }
   ],
   "source": [
    "runtime.start()\n",
    "session_id = str(uuid.uuid4())\n",
    "await runtime.publish_message(\n",
    "    GroupChatMessage(\n",
    "        body=UserMessage(\n",
    "            content=\"Mi computadora dejó de funcionar. Mi pantalla se puso azul con una cara triste. Además, quiero saber el estado del teclado que ordené, mi numero de pedido es 456. Finalmente, he realizado otra compra en este momento por 70 dolares, quisiera saber si mi pago con ID de transaccion 123 se proceso correctamente.\",\n",
    "            source=\"User\",\n",
    "        )\n",
    "    ),\n",
    "    TopicId(type=group_chat_topic_type, source=session_id),\n",
    ")\n",
    "await runtime.stop_when_idle()"
   ]
  },
  {
   "cell_type": "code",
   "execution_count": null,
   "metadata": {},
   "outputs": [],
   "source": []
  }
 ],
 "metadata": {
  "kernelspec": {
   "display_name": ".venv",
   "language": "python",
   "name": "python3"
  },
  "language_info": {
   "codemirror_mode": {
    "name": "ipython",
    "version": 3
   },
   "file_extension": ".py",
   "mimetype": "text/x-python",
   "name": "python",
   "nbconvert_exporter": "python",
   "pygments_lexer": "ipython3",
   "version": "3.12.3"
  }
 },
 "nbformat": 4,
 "nbformat_minor": 2
}
