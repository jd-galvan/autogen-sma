{
 "cells": [
  {
   "cell_type": "markdown",
   "metadata": {},
   "source": [
    "# Ejemplo 1: Procesador de mensajes\n",
    "En el presente ejemplo se implementará un sistema multi agente haciendo uso del patron de Agentes Concurrentes. Por tal motivo, se crearán los siguientes agentes que  tendrán como input inicial un mensaje del usuario:\n",
    "\n",
    "- IntentionAnalyzerAgent: Determina si el mensaje es neutral/petición de ayuda\n",
    "- ResponseAgent: Genera una respuesta al mensaje del usuario.\n",
    "- SummarizerAgent: Resume el contenido del mensaje del usuario.\n",
    "- KeywordExtractorAgent: Extrae palabras clave.\n",
    "- TranslatorAgent: Traduce el mensaje a inglés."
   ]
  },
  {
   "cell_type": "markdown",
   "metadata": {},
   "source": []
  },
  {
   "cell_type": "code",
   "execution_count": 2,
   "metadata": {},
   "outputs": [
    {
     "data": {
      "text/plain": [
       "True"
      ]
     },
     "execution_count": 2,
     "metadata": {},
     "output_type": "execute_result"
    }
   ],
   "source": [
    "# Load environment variables\n",
    "\n",
    "from dotenv import load_dotenv\n",
    "\n",
    "load_dotenv()"
   ]
  },
  {
   "cell_type": "code",
   "execution_count": 3,
   "metadata": {},
   "outputs": [],
   "source": [
    "# Import necessary dependencies\n",
    "\n",
    "import asyncio\n",
    "from dataclasses import dataclass\n",
    "\n",
    "from autogen_core import (\n",
    "    DefaultTopicId,\n",
    "    MessageContext,\n",
    "    RoutedAgent,\n",
    "    SingleThreadedAgentRuntime,\n",
    "    default_subscription,\n",
    "    message_handler,\n",
    ")"
   ]
  },
  {
   "cell_type": "code",
   "execution_count": 4,
   "metadata": {},
   "outputs": [],
   "source": [
    "# Defining models for Task and TaskResponse.\n",
    "\n",
    "@dataclass\n",
    "class Task:\n",
    "    task_id: str\n",
    "    content: str\n",
    "\n",
    "\n",
    "@dataclass\n",
    "class TaskResponse:\n",
    "    task_id: str\n",
    "    result: str"
   ]
  },
  {
   "cell_type": "code",
   "execution_count": 5,
   "metadata": {},
   "outputs": [],
   "source": [
    "# Instantiating openai client\n",
    "import os\n",
    "from autogen_core.models import UserMessage\n",
    "from autogen_ext.models.openai import OpenAIChatCompletionClient\n",
    "\n",
    "# Create an OpenAI model client.\n",
    "model_client = OpenAIChatCompletionClient(\n",
    "    model=\"gpt-4o-mini\",\n",
    "    api_key=os.environ.get(\"OPENAI_API_KEY\")\n",
    ")"
   ]
  },
  {
   "cell_type": "code",
   "execution_count": 6,
   "metadata": {},
   "outputs": [],
   "source": [
    "# Defining LLM calls of each agent\n",
    "\n",
    "import json\n",
    "from typing import Literal, List\n",
    "from pydantic import BaseModel\n",
    "\n",
    "async def analyze_intention(message):\n",
    "    \"\"\"Agente de análisis de Intención\"\"\"\n",
    "\n",
    "    class IntentionAgentResponse(BaseModel):\n",
    "      intention: Literal[\"Neutro\", \"Solicitud de Ayuda\"]\n",
    "\n",
    "    model_custom = OpenAIChatCompletionClient(\n",
    "        model=\"gpt-4o-mini\",\n",
    "        api_key=os.environ.get(\"OPENAI_API_KEY\"),\n",
    "        response_format=IntentionAgentResponse\n",
    "    )\n",
    "\n",
    "    intention_prompt = f\"Analiza la intención del siguiente mensaje (Neutro / Solicitud de Ayuda ):\\n\\n'{message}'\"\n",
    "    messages = [\n",
    "        UserMessage(content=intention_prompt, source=\"user\"),\n",
    "    ]\n",
    "    response = await model_custom.create(messages=messages)\n",
    "    response = json.loads(response.content)\n",
    "    return response[\"intention\"]\n",
    "\n",
    "\n",
    "async def generate_response(message):\n",
    "    \"\"\"Agente de generación de respuesta automática\"\"\"\n",
    "    response_prompt = f\"Genera una respuesta apropiada para el siguiente mensaje:\\n\\n'{message}'\"\n",
    "    messages = [\n",
    "        UserMessage(content=response_prompt, source=\"user\"),\n",
    "    ]\n",
    "    response = await model_client.create(messages=messages)\n",
    "    return response.content\n",
    "\n",
    "\n",
    "async def extract_keywords(message):\n",
    "    \"\"\"Agente de extracción de palabras clave\"\"\"\n",
    "\n",
    "    class KeywordsAgentResponse(BaseModel):\n",
    "      keywords: List[str]\n",
    "\n",
    "    model_custom = OpenAIChatCompletionClient(\n",
    "        model=\"gpt-4o-mini\",\n",
    "        api_key=os.environ.get(\"OPENAI_API_KEY\"),\n",
    "        response_format=KeywordsAgentResponse\n",
    "    )\n",
    "\n",
    "    keyword_prompt = f\"Extrae las palabras clave del siguiente mensaje:\\n\\n'{message}'\"\n",
    "    messages = [\n",
    "        UserMessage(content=keyword_prompt, source=\"user\"),\n",
    "    ]\n",
    "\n",
    "    response = await model_custom.create(messages=messages)\n",
    "    response = json.loads(response.content)\n",
    "    return response[\"keywords\"]\n",
    "\n",
    "\n",
    "async def summarize_message(message):\n",
    "    \"\"\"Agente de resumen del mensaje\"\"\"\n",
    "    summary_prompt = f\"Resume este mensaje en una oración breve:\\n\\n'{message}'\"\n",
    "    messages = [\n",
    "        UserMessage(content=summary_prompt, source=\"user\"),\n",
    "    ]\n",
    "    response = await model_client.create(messages=messages)\n",
    "    return response.content\n",
    "\n",
    "\n",
    "async def translate_message(message):\n",
    "    \"\"\"Agente de traducción a inglés\"\"\"\n",
    "    translate_prompt = f\"Traduce este mensaje al inglés:\\n\\n'{message}'\"\n",
    "    messages = [\n",
    "        UserMessage(content=translate_prompt, source=\"user\"),\n",
    "    ]\n",
    "    response = await model_client.create(messages=messages)\n",
    "    return response.content"
   ]
  },
  {
   "cell_type": "code",
   "execution_count": 7,
   "metadata": {},
   "outputs": [],
   "source": [
    "# Defining agents behavior\n",
    "agents = [\n",
    "  {\n",
    "    \"description\": \"Intention Analyzer Agent\",\n",
    "    \"func\": analyze_intention\n",
    "  },\n",
    "  {\n",
    "    \"description\": \"Response Agent\",\n",
    "    \"func\": generate_response\n",
    "  },\n",
    "  {\n",
    "    \"description\": \"Summarizer Agent\",\n",
    "    \"func\": summarize_message\n",
    "  },\n",
    "  {\n",
    "    \"description\": \"Keyword Extractor Agent\",\n",
    "    \"func\": extract_keywords\n",
    "  },\n",
    "  {\n",
    "    \"description\": \"Translator Agent\",\n",
    "    \"func\": translate_message\n",
    "  },\n",
    "]\n",
    "\n",
    "# Defining a Processor in the default subscription\n",
    "\n",
    "@default_subscription\n",
    "class Processor(RoutedAgent):\n",
    "    @message_handler\n",
    "    async def on_task(self, message: Task, ctx: MessageContext) -> None:\n",
    "        print(f\"{self._description} starting task {message.task_id}\")\n",
    "        agent = list(filter(lambda x: x[\"description\"] == self._description, agents))[0]\n",
    "        result = await agent[\"func\"](message.content)\n",
    "        print(f\"{self._description} finished task {message.task_id} with response: {result}\")"
   ]
  },
  {
   "cell_type": "code",
   "execution_count": 8,
   "metadata": {},
   "outputs": [
    {
     "name": "stdout",
     "output_type": "stream",
     "text": [
      "Intention Analyzer Agent starting task task-1\n",
      "Response Agent starting task task-1\n",
      "Summarizer Agent starting task task-1\n",
      "Keyword Extractor Agent starting task task-1\n",
      "Translator Agent starting task task-1\n",
      "Intention Analyzer Agent finished task task-1 with response: Solicitud de Ayuda\n",
      "Translator Agent finished task task-1 with response: \"I need help with Python, specifically with list comprehension.\"\n",
      "Keyword Extractor Agent finished task task-1 with response: ['ayuda', 'python', 'comprensión', 'listas']\n",
      "Response Agent finished task task-1 with response: ¡Claro! Estoy aquí para ayudarte con la comprensión de listas en Python. ¿Tienes alguna pregunta específica o un ejemplo en el que estés trabajando? Si puedes proporcionar más detalles, será más fácil asistirte.\n",
      "Summarizer Agent finished task task-1 with response: Solicito ayuda con comprensión de listas en Python.\n"
     ]
    }
   ],
   "source": [
    "# Registering agents\n",
    "\n",
    "runtime = SingleThreadedAgentRuntime()\n",
    "\n",
    "await Processor.register(runtime, \"intention_agent\", lambda: Processor(\"Intention Analyzer Agent\"))\n",
    "await Processor.register(runtime, \"response_agent\", lambda: Processor(\"Response Agent\"))\n",
    "await Processor.register(runtime, \"summarizer_agent\", lambda: Processor(\"Summarizer Agent\"))\n",
    "await Processor.register(runtime, \"keyword_agent\", lambda: Processor(\"Keyword Extractor Agent\"))\n",
    "await Processor.register(runtime, \"translator_agent\", lambda: Processor(\"Translator Agent\"))\n",
    "\n",
    "runtime.start()\n",
    "\n",
    "await runtime.publish_message(Task(task_id=\"task-1\", content=\"Necesito ayuda con python, especificamente con comprension de listas\"), topic_id=DefaultTopicId())\n",
    "\n",
    "await runtime.stop_when_idle()"
   ]
  },
  {
   "cell_type": "code",
   "execution_count": null,
   "metadata": {},
   "outputs": [],
   "source": []
  }
 ],
 "metadata": {
  "kernelspec": {
   "display_name": ".venv",
   "language": "python",
   "name": "python3"
  },
  "language_info": {
   "codemirror_mode": {
    "name": "ipython",
    "version": 3
   },
   "file_extension": ".py",
   "mimetype": "text/x-python",
   "name": "python",
   "nbconvert_exporter": "python",
   "pygments_lexer": "ipython3",
   "version": "3.12.3"
  }
 },
 "nbformat": 4,
 "nbformat_minor": 2
}
