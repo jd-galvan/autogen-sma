{
 "cells": [
  {
   "cell_type": "markdown",
   "metadata": {},
   "source": [
    "# Ejemplo 4: Code Executor\n",
    "En el presente ejemplo se implementará un sistema multi agente haciendo uso de DockerCommandLineCodeExecutor. Por tal motivo, se crearán los siguientes agentes:\n",
    "\n",
    "- CoderAgent: Encargado de escribir el script.\n",
    "- ExecutorAgent: Encargado de ejecutar el script haciendo uso de docker."
   ]
  },
  {
   "cell_type": "markdown",
   "metadata": {},
   "source": []
  },
  {
   "cell_type": "code",
   "execution_count": 1,
   "metadata": {},
   "outputs": [
    {
     "data": {
      "text/plain": [
       "True"
      ]
     },
     "execution_count": 1,
     "metadata": {},
     "output_type": "execute_result"
    }
   ],
   "source": [
    "# Load environment variables\n",
    "\n",
    "from dotenv import load_dotenv\n",
    "\n",
    "load_dotenv()"
   ]
  },
  {
   "cell_type": "code",
   "execution_count": null,
   "metadata": {},
   "outputs": [],
   "source": [
    "import re\n",
    "from dataclasses import dataclass\n",
    "from typing import List\n",
    "\n",
    "from autogen_core import DefaultTopicId, MessageContext, RoutedAgent, default_subscription, message_handler\n",
    "from autogen_core.code_executor import CodeBlock, CodeExecutor\n",
    "from autogen_core.models import (\n",
    "    AssistantMessage,\n",
    "    ChatCompletionClient,\n",
    "    LLMMessage,\n",
    "    SystemMessage,\n",
    "    UserMessage,\n",
    ")\n",
    "\n",
    "\n",
    "@dataclass\n",
    "class Message:\n",
    "    content: str\n",
    "\n",
    "\n",
    "@default_subscription\n",
    "class Assistant(RoutedAgent):\n",
    "    def __init__(self, model_client: ChatCompletionClient) -> None:\n",
    "        super().__init__(\"An assistant agent.\")\n",
    "        self._model_client = model_client\n",
    "        self._chat_history: List[LLMMessage] = [\n",
    "            SystemMessage(\n",
    "                content=\"\"\"Write Python script in markdown block, and it will be executed.\n",
    "Always save figures to file in the current directory. Do not use plt.show(). All code required to complete this task must be contained within a single response.\"\"\",\n",
    "            )\n",
    "        ]\n",
    "\n",
    "    @message_handler\n",
    "    async def handle_message(self, message: Message, ctx: MessageContext) -> None:\n",
    "        self._chat_history.append(UserMessage(content=message.content, source=\"user\"))\n",
    "        result = await self._model_client.create(self._chat_history)\n",
    "        print(f\"\\n{'-'*80}\\nAssistant:\\n{result.content}\")\n",
    "        self._chat_history.append(AssistantMessage(content=result.content, source=\"assistant\"))  # type: ignore\n",
    "        await self.publish_message(Message(content=result.content), DefaultTopicId())  # type: ignore\n",
    "\n",
    "\n",
    "def extract_markdown_code_blocks(markdown_text: str) -> List[CodeBlock]:\n",
    "    pattern = re.compile(r\"```(?:\\s*([\\w\\+\\-]+))?\\n([\\s\\S]*?)```\")\n",
    "    matches = pattern.findall(markdown_text)\n",
    "    code_blocks: List[CodeBlock] = []\n",
    "    for match in matches:\n",
    "        language = match[0].strip() if match[0] else \"\"\n",
    "        code_content = match[1]\n",
    "        code_blocks.append(CodeBlock(code=code_content, language=language))\n",
    "    return code_blocks\n",
    "\n",
    "\n",
    "@default_subscription\n",
    "class Executor(RoutedAgent):\n",
    "    def __init__(self, code_executor: CodeExecutor) -> None:\n",
    "        super().__init__(\"An executor agent.\")\n",
    "        self._code_executor = code_executor\n",
    "\n",
    "    @message_handler\n",
    "    async def handle_message(self, message: Message, ctx: MessageContext) -> None:\n",
    "        code_blocks = extract_markdown_code_blocks(message.content)\n",
    "        if code_blocks:\n",
    "            result = await self._code_executor.execute_code_blocks(\n",
    "                code_blocks, cancellation_token=ctx.cancellation_token\n",
    "            )\n",
    "            print(f\"\\n{'-'*80}\\nExecutor:\\n{result.output}\")\n",
    "            await self.publish_message(Message(content=result.output), DefaultTopicId())"
   ]
  }
 ],
 "metadata": {
  "kernelspec": {
   "display_name": ".venv",
   "language": "python",
   "name": "python3"
  },
  "language_info": {
   "codemirror_mode": {
    "name": "ipython",
    "version": 3
   },
   "file_extension": ".py",
   "mimetype": "text/x-python",
   "name": "python",
   "nbconvert_exporter": "python",
   "pygments_lexer": "ipython3",
   "version": "3.12.3"
  }
 },
 "nbformat": 4,
 "nbformat_minor": 2
}
