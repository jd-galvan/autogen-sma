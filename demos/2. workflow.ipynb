{
 "cells": [
  {
   "cell_type": "markdown",
   "metadata": {},
   "source": [
    "# Ejemplo 2: Creación de contenido publicitario multilingue\n",
    "En el presente ejemplo se implementará un sistema multi agente haciendo uso del patron de Workflow Secuencial. Por tal motivo, se crearán los siguientes agentes que  tendrán como input inicial un mensaje del usuario:\n",
    "\n",
    "- WriterAgent: Crea un post publicitario en base a la descripcion de un producto\n",
    "- TranslatorAgent: Genera la versión en Inglés del post publicitario\n",
    "- MarketingAgent: Agrega emojis a la publicación para hacerla más atractiva"
   ]
  },
  {
   "cell_type": "markdown",
   "metadata": {},
   "source": []
  },
  {
   "cell_type": "code",
   "execution_count": 1,
   "metadata": {},
   "outputs": [
    {
     "data": {
      "text/plain": [
       "True"
      ]
     },
     "execution_count": 1,
     "metadata": {},
     "output_type": "execute_result"
    }
   ],
   "source": [
    "# Load environment variables\n",
    "\n",
    "from dotenv import load_dotenv\n",
    "\n",
    "load_dotenv()"
   ]
  },
  {
   "cell_type": "code",
   "execution_count": 2,
   "metadata": {},
   "outputs": [],
   "source": [
    "from dataclasses import dataclass\n",
    "\n",
    "from autogen_core import (\n",
    "    MessageContext,\n",
    "    RoutedAgent,\n",
    "    SingleThreadedAgentRuntime,\n",
    "    TopicId,\n",
    "    TypeSubscription,\n",
    "    message_handler,\n",
    "    type_subscription,\n",
    ")\n",
    "from autogen_core.models import ChatCompletionClient, SystemMessage, UserMessage\n",
    "from autogen_ext.models.openai import OpenAIChatCompletionClient"
   ]
  },
  {
   "cell_type": "code",
   "execution_count": 3,
   "metadata": {},
   "outputs": [],
   "source": [
    "# Defining models for Task and TaskResponse.\n",
    "\n",
    "@dataclass\n",
    "class Message:\n",
    "    content: str"
   ]
  },
  {
   "cell_type": "code",
   "execution_count": 4,
   "metadata": {},
   "outputs": [],
   "source": [
    "# Topics\n",
    "writer_topic_type = \"WriterAgent\"\n",
    "translator_topic_type = \"TranslatorAgent\"\n",
    "marketing_topic_type = \"MarketingAgent\""
   ]
  },
  {
   "cell_type": "code",
   "execution_count": 5,
   "metadata": {},
   "outputs": [],
   "source": [
    "# Defining Writer Agent\n",
    "@type_subscription(topic_type=writer_topic_type)\n",
    "class WriterAgent(RoutedAgent):\n",
    "    def __init__(self, model_client: ChatCompletionClient) -> None:\n",
    "        super().__init__(\"Writer agent.\")\n",
    "        self._system_message = SystemMessage(\n",
    "            content=(\n",
    "                \"Eres un escritor experto en la creación de publicaciones atractivas para redes sociales dado un \"\n",
    "                \"texto con la descripcion del producto.\"\n",
    "                \"Longitud recomendada: entre 150 y 300 palabras. \"\n",
    "                \"Evita tecnicismos complejos (salvo que el tema lo requiera). \"\n",
    "                \"No agregues emojis ni hashtags; otro agente se encargará de eso.\"\n",
    "            )\n",
    "        )\n",
    "        self._model_client = model_client\n",
    "\n",
    "    @message_handler\n",
    "    async def handle_intermediate_text(self, message: Message, ctx: MessageContext) -> None:\n",
    "        prompt = f\"Descripcion del producto:\\n\\n{message.content}\"\n",
    "\n",
    "        llm_result = await self._model_client.create(\n",
    "            messages=[self._system_message, UserMessage(content=prompt, source=self.id.key)],\n",
    "            cancellation_token=ctx.cancellation_token,\n",
    "        )\n",
    "        response = llm_result.content\n",
    "        assert isinstance(response, str)\n",
    "        print(f\"{'-'*80}\\n{self.id.type}:\\n{response}\")\n",
    "\n",
    "        await self.publish_message(Message(response), topic_id=TopicId(translator_topic_type, source=self.id.key))"
   ]
  },
  {
   "cell_type": "code",
   "execution_count": 6,
   "metadata": {},
   "outputs": [],
   "source": [
    "# Translator Agent\n",
    "@type_subscription(topic_type=translator_topic_type)\n",
    "class TranslatorAgent(RoutedAgent):\n",
    "    def __init__(self, model_client: ChatCompletionClient) -> None:\n",
    "        super().__init__(\"Translator agent.\")\n",
    "        self._system_message = SystemMessage(\n",
    "            content=(\n",
    "                \"Eres un traductor profesional con experiencia en redes sociales y marketing digital. \"\n",
    "                \"Dado un post de redes sociales sobre un producto o servicio, debes devolver el texto original y su traducción a inglés. \"\n",
    "                \"Asegúrate de que la traducción suene natural y fluida para hablantes nativos del idioma de destino. \"\n",
    "                \"Evita traducciones literales; adapta el contenido si es necesario para que tenga impacto en la audiencia.\"\n",
    "            )\n",
    "        )\n",
    "        self._model_client = model_client\n",
    "\n",
    "    @message_handler\n",
    "    async def handle_intermediate_text(self, message: Message, ctx: MessageContext) -> None:\n",
    "        prompt = f\"Post en idioma original:\\n\\n{message.content}\"\n",
    "\n",
    "        llm_result = await self._model_client.create(\n",
    "            messages=[self._system_message, UserMessage(content=prompt, source=self.id.key)],\n",
    "            cancellation_token=ctx.cancellation_token,\n",
    "        )\n",
    "        response = llm_result.content\n",
    "        assert isinstance(response, str)\n",
    "        print(f\"{'-'*80}\\n{self.id.type}:\\n{response}\")\n",
    "\n",
    "        await self.publish_message(Message(response), topic_id=TopicId(marketing_topic_type, source=self.id.key))"
   ]
  },
  {
   "cell_type": "code",
   "execution_count": 8,
   "metadata": {},
   "outputs": [],
   "source": [
    "#Marketing Agent\n",
    "@type_subscription(topic_type=marketing_topic_type)\n",
    "class MarketingAgent(RoutedAgent):\n",
    "    def __init__(self, model_client: ChatCompletionClient) -> None:\n",
    "        super().__init__(\"Marketing agent.\")\n",
    "        self._system_message = SystemMessage(\n",
    "            content=(\n",
    "                \"Eres un experto en marketing digital y redes sociales. \"\n",
    "                \"Recibirás una publicación en español e inglés y debes mejorarlas para hacerlas más atractiva \"\n",
    "                \"para plataformas como Instagram, Facebook y Twitter. \"\n",
    "                \"Agrega emojis relevantes para hacer el texto más visual y atractivo. \"\n",
    "                \"Añade hashtags populares relacionados con el tema. \"\n",
    "                \"No alteres la esencia del mensaje.\"\n",
    "            )\n",
    "        )\n",
    "        self._model_client = model_client\n",
    "\n",
    "    @message_handler\n",
    "    async def handle_intermediate_text(self, message: Message, ctx: MessageContext) -> None:\n",
    "        prompt = f\"Publicaciones para redes sociales:\\n{message.content}.\"\n",
    "        llm_result = await self._model_client.create(\n",
    "            messages=[self._system_message, UserMessage(content=prompt, source=self.id.key)],\n",
    "            cancellation_token=ctx.cancellation_token,\n",
    "        )\n",
    "        response = llm_result.content\n",
    "        assert isinstance(response, str)\n",
    "        print(f\"{'-'*80}\\n{self.id.type}:\\n{response}\")\n"
   ]
  },
  {
   "cell_type": "code",
   "execution_count": 9,
   "metadata": {},
   "outputs": [
    {
     "data": {
      "text/plain": [
       "AgentType(type='MarketingAgent')"
      ]
     },
     "execution_count": 9,
     "metadata": {},
     "output_type": "execute_result"
    }
   ],
   "source": [
    "# Subscribing in the runtime\n",
    "\n",
    "import os\n",
    "\n",
    "model_client = OpenAIChatCompletionClient(\n",
    "    model=\"gpt-4o-mini\",\n",
    "    api_key=os.environ.get(\"OPENAI_API_KEY\")\n",
    ")\n",
    "\n",
    "runtime = SingleThreadedAgentRuntime()\n",
    "\n",
    "await WriterAgent.register(runtime, type=writer_topic_type, factory=lambda: WriterAgent(model_client=model_client))\n",
    "\n",
    "await TranslatorAgent.register(runtime, type=translator_topic_type, factory=lambda: TranslatorAgent(model_client=model_client))\n",
    "\n",
    "await MarketingAgent.register(runtime, type=marketing_topic_type, factory=lambda: MarketingAgent(model_client=model_client))"
   ]
  },
  {
   "cell_type": "code",
   "execution_count": null,
   "metadata": {},
   "outputs": [
    {
     "name": "stdout",
     "output_type": "stream",
     "text": [
      "--------------------------------------------------------------------------------\n",
      "WriterAgent:\n",
      "Descubre la libertad de explorar los senderos más desafiantes con la Bicicleta Bike3000, tu compañera ideal para aventuras en la montaña. Diseñada para aquellos que aman la naturaleza y el desafío, esta bicicleta se destaca por su robustez y durabilidad. Su estructura resistente te brinda la confianza necesaria para conquistar cualquier terreno, desde empinadas pendientes hasta caminos irregulares.\n",
      "\n",
      "La Bike3000 cuenta con un sistema de suspensión eficaz que absorbe los impactos, proporcionando un viaje suave y cómodo, incluso en las rutas más difíciles. Su diseño aerodinámico y ligero facilita el manejo en ascensos pronunciados, permitiéndote alcanzar nuevas alturas sin esfuerzo adicional.\n",
      "\n",
      "Ideal para los amantes de los deportes al aire libre, esta bicicleta no solo es perfecta para el ciclismo de montaña, sino que también se adapta a distintas actividades de aventura. Ya sea que estés subiendo un cerro, recorriendo trails o simplemente disfrutando de un paseo por el bosque, la Bike3000 te acompañará en cada aventura.\n",
      "\n",
      "Cada detalle ha sido cuidadosamente pensado, desde su sistema de frenos de alto rendimiento hasta los neumáticos diseñados para ofrecer un agarre óptimo en cualquier superficie. Prepárate para llevar tus habilidades al siguiente nivel y disfrutar de momentos inolvidables en plena naturaleza. La Bicicleta Bike3000 es más que una bicicleta; es la puerta a nuevas experiencias y emociones en cada ruta.\n",
      "--------------------------------------------------------------------------------\n",
      "TranslatorAgent:\n",
      "**Texto original:**\n",
      "\n",
      "Descubre la libertad de explorar los senderos más desafiantes con la Bicicleta Bike3000, tu compañera ideal para aventuras en la montaña. Diseñada para aquellos que aman la naturaleza y el desafío, esta bicicleta se destaca por su robustez y durabilidad. Su estructura resistente te brinda la confianza necesaria para conquistar cualquier terreno, desde empinadas pendientes hasta caminos irregulares.\n",
      "\n",
      "La Bike3000 cuenta con un sistema de suspensión eficaz que absorbe los impactos, proporcionando un viaje suave y cómodo, incluso en las rutas más difíciles. Su diseño aerodinámico y ligero facilita el manejo en ascensos pronunciados, permitiéndote alcanzar nuevas alturas sin esfuerzo adicional.\n",
      "\n",
      "Ideal para los amantes de los deportes al aire libre, esta bicicleta no solo es perfecta para el ciclismo de montaña, sino que también se adapta a distintas actividades de aventura. Ya sea que estés subiendo un cerro, recorriendo trails o simplemente disfrutando de un paseo por el bosque, la Bike3000 te acompañará en cada aventura.\n",
      "\n",
      "Cada detalle ha sido cuidadosamente pensado, desde su sistema de frenos de alto rendimiento hasta los neumáticos diseñados para ofrecer un agarre óptimo en cualquier superficie. Prepárate para llevar tus habilidades al siguiente nivel y disfrutar de momentos inolvidables en plena naturaleza. La Bicicleta Bike3000 es más que una bicicleta; es la puerta a nuevas experiencias y emociones en cada ruta.\n",
      "\n",
      "---\n",
      "\n",
      "**Traducción al inglés:**\n",
      "\n",
      "Discover the freedom to tackle the most challenging trails with the Bike3000, your perfect companion for mountain adventures. Designed for those who love nature and a good challenge, this bike stands out for its robustness and durability. Its sturdy frame gives you the confidence to conquer any terrain, from steep hills to rugged paths.\n",
      "\n",
      "The Bike3000 features an effective suspension system that absorbs shocks, providing a smooth and comfortable ride even on the toughest routes. Its aerodynamic and lightweight design makes it easy to handle on steep climbs, allowing you to reach new heights without extra effort.\n",
      "\n",
      "Perfect for outdoor enthusiasts, this bike is not only ideal for mountain biking but also adapts well to various adventure activities. Whether you're climbing a hill, hitting the trails, or simply enjoying a ride through the forest, the Bike3000 will accompany you on every adventure.\n",
      "\n",
      "Every detail has been meticulously crafted, from its high-performance braking system to the tires designed for optimal grip on any surface. Get ready to elevate your skills and enjoy unforgettable moments in the great outdoors. The Bike3000 is more than just a bike; it's your gateway to new experiences and thrills on every ride.\n",
      "--------------------------------------------------------------------------------\n",
      "MarketingAgent:\n",
      "**Publicación mejorada en español:**\n",
      "\n",
      "🌄🚴‍♂️ ¡Descubre la libertad de explorar los senderos más desafiantes con la **Bicicleta Bike3000**! Tu compañera ideal para aventuras en la montaña. 🌲💪 Diseñada para quienes aman la naturaleza y los retos, esta bicicleta resalta por su robustez y durabilidad. Su estructura resistente te brinda la confianza necesaria para conquistar cualquier terreno, desde empinadas pendientes hasta caminos irregulares. \n",
      "\n",
      "✨ La **Bike3000** cuenta con un sistema de suspensión eficaz que absorbe impactos, ofreciendo un viaje suave y cómodo, incluso en rutas difíciles. Su diseño aerodinámico y ligero facilita el manejo en ascensos pronunciados, ¡así podrás alcanzar nuevas alturas sin esfuerzo adicional! 🏞️🚀 \n",
      "\n",
      "Ideal para los amantes de los deportes al aire libre, esta bicicleta se adapta a múltiples actividades de aventura. Ya sea subiendo cerros, recorriendo trails o disfrutando de un paseo por el bosque, ¡la **Bike3000** te acompañará en cada aventura! 🍃🌟 \n",
      "\n",
      "Cada detalle ha sido pensado con mimo, desde su sistema de frenos de alto rendimiento hasta los neumáticos diseñados para ofrecer un agarre óptimo en cualquier superficie. 🌪️💥 Prepárate para llevar tus habilidades al siguiente nivel y disfrutar de momentos inolvidables en plena naturaleza. ¡La **Bike3000** es más que una bicicleta; es tu puerta a nuevas experiencias y emociones en cada ruta! 💖🌍 \n",
      "\n",
      "#Bike3000 #AventuraEnBicicleta #CiclismoDeMontaña #Naturaleza #Adrenalina #DeportesAlAireLibre #Exploración #Montañas #ViveLaAventura\n",
      "\n",
      "---\n",
      "\n",
      "**Improved post in English:**\n",
      "\n",
      "🌄🚴‍♂️ Discover the freedom to tackle the most challenging trails with the **Bike3000**, your perfect companion for mountain adventures! 🌲💪 Designed for those who love nature and a good challenge, this bike stands out for its robustness and durability. Its sturdy frame gives you the confidence to conquer any terrain, from steep hills to rugged paths. \n",
      "\n",
      "✨ The **Bike3000** features an effective suspension system that absorbs shocks, providing a smooth and comfortable ride even on the toughest routes. Its aerodynamic and lightweight design makes handling steep climbs a breeze, allowing you to reach new heights without extra effort! 🏞️🚀 \n",
      "\n",
      "Perfect for outdoor enthusiasts, this bike adapts beautifully to various adventure activities. Whether you're climbing a hill, hitting the trails, or simply enjoying a ride through the forest, the **Bike3000** will accompany you on every adventure! 🍃🌟 \n",
      "\n",
      "Every detail has been meticulously crafted, from its high-performance braking system to tires designed for optimal grip on any surface. 🌪️💥 Get ready to elevate your skills and enjoy unforgettable moments in the great outdoors. The **Bike3000** is more than just a bike; it's your gateway to new experiences and thrills on every ride! 💖🌍 \n",
      "\n",
      "#Bike3000 #MountainBiking #OutdoorAdventure #NatureLovers #AdrenalineJunkie #ExploreMore #AdventureAwaits #RideYourWay\n"
     ]
    }
   ],
   "source": [
    "# Runing workflow\n",
    "runtime.start()\n",
    "\n",
    "await runtime.publish_message(\n",
    "    Message(content=\"Bibicleta Bike3000 util para subir montañas y deportes de aventura.\"),\n",
    "    topic_id=TopicId(writer_topic_type, source=\"default\"),\n",
    ")\n",
    "\n",
    "await runtime.stop_when_idle()"
   ]
  },
  {
   "cell_type": "code",
   "execution_count": null,
   "metadata": {},
   "outputs": [],
   "source": []
  }
 ],
 "metadata": {
  "kernelspec": {
   "display_name": ".venv",
   "language": "python",
   "name": "python3"
  },
  "language_info": {
   "codemirror_mode": {
    "name": "ipython",
    "version": 3
   },
   "file_extension": ".py",
   "mimetype": "text/x-python",
   "name": "python",
   "nbconvert_exporter": "python",
   "pygments_lexer": "ipython3",
   "version": "3.12.3"
  }
 },
 "nbformat": 4,
 "nbformat_minor": 2
}
